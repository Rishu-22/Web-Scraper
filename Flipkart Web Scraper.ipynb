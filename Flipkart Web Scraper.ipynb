{
  "cells": [
    {
      "cell_type": "markdown",
      "metadata": {
        "id": "view-in-github",
        "colab_type": "text"
      },
      "source": [
        "<a href=\"https://colab.research.google.com/github/Harsh-Aggarwal-123/Web-Scraping-Projects/blob/main/Selenium_Complex_Project_1_Working_Copy.ipynb\" target=\"_parent\"><img src=\"https://colab.research.google.com/assets/colab-badge.svg\" alt=\"Open In Colab\"/></a>"
      ]
    },
    {
      "cell_type": "code",
      "execution_count": null,
      "metadata": {
        "id": "YbVDzXbCRq46"
      },
      "outputs": [],
      "source": [
        "#flipkart"
      ]
    },
    {
      "cell_type": "code",
      "execution_count": null,
      "metadata": {
        "id": "avE5MQXDRq4p"
      },
      "outputs": [],
      "source": [
        "from selenium import webdriver"
      ]
    },
    {
      "cell_type": "code",
      "execution_count": null,
      "metadata": {
        "id": "rphyGkwaRq4q",
        "outputId": "2337855c-7c26-4124-c899-b73a2de6450b"
      },
      "outputs": [
        {
          "name": "stderr",
          "output_type": "stream",
          "text": [
            "[WDM] - Downloading:  98%|█████████▊| 7.95M/8.08M [00:04<00:00, 1.90MB/s]"
          ]
        }
      ],
      "source": [
        "from selenium.webdriver.chrome.service import Service\n",
        "from webdriver_manager.chrome import ChromeDriverManager\n",
        "\n",
        "driver = webdriver.Chrome(service=Service(ChromeDriverManager().install()))\n",
        "driver.get(\"https://www.scrapethissite.com/pages/\")"
      ]
    },
    {
      "cell_type": "code",
      "execution_count": null,
      "metadata": {
        "id": "--FeDYb1Rq47"
      },
      "outputs": [],
      "source": [
        "from selenium.webdriver.common.by import By\n",
        "from bs4 import BeautifulSoup\n",
        "import pandas as pd\n",
        "driver.get(\"https://www.flipkart.com/\")"
      ]
    },
    {
      "cell_type": "code",
      "execution_count": null,
      "metadata": {
        "id": "8Z_6PKCBRq48"
      },
      "outputs": [],
      "source": [
        "text_box = driver.find_element(By.CLASS_NAME,'_3704LK')\n",
        "text_box.send_keys('Mobile Phones')\n",
        "text_box.submit()\n",
        "# can use this\n",
        "# import time\n",
        "# time.sleep(5)\n",
        "driver.implicitly_wait(3)"
      ]
    },
    {
      "cell_type": "code",
      "execution_count": null,
      "metadata": {
        "id": "Z3CcPdvWRq49",
        "outputId": "d4c56223-8c2f-40e5-fa33-83ebc0b570a2"
      },
      "outputs": [
        {
          "name": "stdout",
          "output_type": "stream",
          "text": [
            "realme 9i (Prism Blue, 128 GB) ₹11,099\n",
            "realme 9i (Prism Black, 128 GB) ₹11,099\n",
            "realme C31 (Dark Green, 64 GB) ₹9,999\n",
            "SAMSUNG Galaxy S22 Plus 5G (Phantom Black, 128 GB) ₹69,999\n",
            "realme C31 (Light Silver, 32 GB) ₹9,299\n",
            "realme C31 (Dark Green, 32 GB) ₹9,299\n",
            "REDMI 10 (Pacific Blue, 64 GB) ₹8,999\n",
            "APPLE iPhone 11 (Black, 128 GB) ₹41,990\n",
            "APPLE iPhone 13 (Starlight, 128 GB) ₹59,990\n",
            "REDMI 10 (Midnight Black, 64 GB) ₹8,999\n",
            "APPLE iPhone 11 (White, 128 GB) ₹41,990\n",
            "REDMI 10 (Caribbean Green, 64 GB) ₹8,999\n",
            "realme C31 (Light Silver, 64 GB) ₹9,999\n",
            "APPLE iPhone 11 (White, 64 GB) ₹35,990\n",
            "SAMSUNG Galaxy F13 (Waterfall Blue, 64 GB) ₹9,999\n",
            "Infinix Hot 12 (Turquoise Cyan, 64 GB) ₹8,499\n",
            "Infinix Hot 12 (Exploratory Blue, 64 GB) ₹8,499\n",
            "SAMSUNG Galaxy F13 (Nightsky Green, 64 GB) ₹9,999\n",
            "APPLE iPhone 13 (Green, 128 GB) ₹59,990\n",
            "realme C33 (Night Sea, 64 GB) ₹9,999\n",
            "realme C33 (Aqua Blue, 64 GB) ₹9,999\n",
            "realme C33 (Sandy Gold, 64 GB) ₹9,999\n",
            "realme C33 (Night Sea, 32 GB) ₹8,999\n",
            "realme C33 (Aqua Blue, 32 GB) ₹8,999\n"
          ]
        }
      ],
      "source": [
        "thisdict = {}\n",
        "\n",
        "product_names = driver.find_elements(By.CLASS_NAME, '_4rR01T')\n",
        "product_prices = driver.find_elements(By.CLASS_NAME, '_1_WHN1')\n",
        "\n",
        "\n",
        "for index, item in enumerate(product_names, 0):\n",
        "    thisdict.update({item : product_prices[index]})\n",
        "\n",
        "\n",
        "for x, y in thisdict.items():\n",
        "    print(x.text, y.text)"
      ]
    },
    {
      "cell_type": "code",
      "execution_count": null,
      "metadata": {
        "id": "DHSOsOqgRq4-"
      },
      "outputs": [],
      "source": [
        "product_names = driver.find_elements(By.CLASS_NAME, '_4rR01T')\n",
        "for product in product_names:\n",
        "    print(product.text)"
      ]
    },
    {
      "cell_type": "code",
      "execution_count": null,
      "metadata": {
        "id": "CBEh1erqRq4-",
        "outputId": "83abd870-cec6-4993-de75-6804eda33ce3"
      },
      "outputs": [
        {
          "name": "stdout",
          "output_type": "stream",
          "text": [
            "₹11,099\n",
            "₹11,099\n",
            "₹9,999\n",
            "₹69,999\n",
            "₹9,299\n",
            "₹9,299\n",
            "₹8,999\n",
            "₹41,990\n",
            "₹59,990\n",
            "₹8,999\n",
            "₹41,990\n",
            "₹8,999\n",
            "₹9,999\n",
            "₹35,990\n",
            "₹9,999\n",
            "₹8,499\n",
            "₹8,499\n",
            "₹9,999\n",
            "₹59,990\n",
            "₹9,999\n",
            "₹9,999\n",
            "₹9,999\n",
            "₹8,999\n",
            "₹8,999\n"
          ]
        }
      ],
      "source": [
        "product_prices = driver.find_elements(By.CLASS_NAME, '_1_WHN1')\n",
        "for price in product_prices:\n",
        "    print(price.text)"
      ]
    },
    {
      "cell_type": "code",
      "execution_count": null,
      "metadata": {
        "id": "0S3CnVNERq4_"
      },
      "outputs": [],
      "source": []
    }
  ],
  "metadata": {
    "kernelspec": {
      "display_name": "Python 3 (ipykernel)",
      "language": "python",
      "name": "python3"
    },
    "language_info": {
      "codemirror_mode": {
        "name": "ipython",
        "version": 3
      },
      "file_extension": ".py",
      "mimetype": "text/x-python",
      "name": "python",
      "nbconvert_exporter": "python",
      "pygments_lexer": "ipython3",
      "version": "3.8.10"
    },
    "colab": {
      "provenance": [],
      "include_colab_link": true
    }
  },
  "nbformat": 4,
  "nbformat_minor": 0
}
