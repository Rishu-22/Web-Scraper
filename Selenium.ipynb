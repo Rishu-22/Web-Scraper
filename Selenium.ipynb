{
  "nbformat": 4,
  "nbformat_minor": 0,
  "metadata": {
    "colab": {
      "provenance": [],
      "authorship_tag": "ABX9TyNxzv4ya95reX2Mbzn+VXbw",
      "include_colab_link": true
    },
    "kernelspec": {
      "name": "python3",
      "display_name": "Python 3"
    },
    "language_info": {
      "name": "python"
    }
  },
  "cells": [
    {
      "cell_type": "markdown",
      "metadata": {
        "id": "view-in-github",
        "colab_type": "text"
      },
      "source": [
        "<a href=\"https://colab.research.google.com/github/Harsh-Aggarwal-123/Web-Scraping-Projects/blob/main/Selenium.ipynb\" target=\"_parent\"><img src=\"https://colab.research.google.com/assets/colab-badge.svg\" alt=\"Open In Colab\"/></a>"
      ]
    },
    {
      "cell_type": "code",
      "execution_count": null,
      "metadata": {
        "id": "if_wxH91KSmT"
      },
      "outputs": [],
      "source": [
        "!pip install selenium"
      ]
    },
    {
      "cell_type": "code",
      "source": [
        "!apt-get update"
      ],
      "metadata": {
        "id": "LfuWP6KkK5Bk"
      },
      "execution_count": null,
      "outputs": []
    },
    {
      "cell_type": "code",
      "source": [
        "!apt-get install -y chromium-browser"
      ],
      "metadata": {
        "id": "DuBh5IHHK_6h"
      },
      "execution_count": null,
      "outputs": []
    },
    {
      "cell_type": "code",
      "source": [
        "!apt install chromium-chromedriver"
      ],
      "metadata": {
        "id": "00T_SLWVLS3K"
      },
      "execution_count": null,
      "outputs": []
    },
    {
      "cell_type": "code",
      "source": [
        "from selenium import webdriver"
      ],
      "metadata": {
        "id": "Dlyxs67ZLmsU"
      },
      "execution_count": 5,
      "outputs": []
    },
    {
      "cell_type": "code",
      "source": [
        "#!ls /usr/lib/chromium-browser/chromedriver\n",
        "from selenium.webdriver.common.by import By"
      ],
      "metadata": {
        "id": "abS2Y08QL4hb"
      },
      "execution_count": 17,
      "outputs": []
    },
    {
      "cell_type": "code",
      "source": [
        "options = webdriver.ChromeOptions()\n",
        "options.add_argument('--no-sandbox')\n",
        "options.add_argument('--headless')\n",
        "options.add_argument('--disable-gpu')\n",
        "options.add_argument('--disable-dve-shm-uage')\n",
        "\n",
        "driver = webdriver.Chrome(executable_path = '/usr/lib/chromium-browser/chromedriver', options=options)"
      ],
      "metadata": {
        "colab": {
          "base_uri": "https://localhost:8080/"
        },
        "id": "WjY9oZKsLsdc",
        "outputId": "777e806c-c82a-4964-e04e-a5662450ae27"
      },
      "execution_count": 13,
      "outputs": [
        {
          "output_type": "stream",
          "name": "stderr",
          "text": [
            "<ipython-input-13-41f3d0965b82>:7: DeprecationWarning: executable_path has been deprecated, please pass in a Service object\n",
            "  driver = webdriver.Chrome(executable_path = '/usr/lib/chromium-browser/chromedriver', options=options)\n"
          ]
        }
      ]
    },
    {
      "cell_type": "code",
      "source": [
        "driver.get('https://quotes.toscrape.com/')"
      ],
      "metadata": {
        "id": "lxSKwLn7OFXC"
      },
      "execution_count": 16,
      "outputs": []
    },
    {
      "cell_type": "code",
      "source": [
        "for element in driver.find_elements(By.XPATH, '//div[@class=\"quote\"]'):\n",
        "  print('___\\n____', element.text)"
      ],
      "metadata": {
        "colab": {
          "base_uri": "https://localhost:8080/"
        },
        "id": "QeThq5c9OiL5",
        "outputId": "80ba1758-8532-484a-e887-d8a974c74a70"
      },
      "execution_count": 19,
      "outputs": [
        {
          "output_type": "stream",
          "name": "stdout",
          "text": [
            "___\n",
            "____ “The world as we have created it is a process of our thinking. It cannot be changed without changing our thinking.”\n",
            "by Albert Einstein (about)\n",
            "Tags: change deep-thoughts thinking world\n",
            "___\n",
            "____ “It is our choices, Harry, that show what we truly are, far more than our abilities.”\n",
            "by J.K. Rowling (about)\n",
            "Tags: abilities choices\n",
            "___\n",
            "____ “There are only two ways to live your life. One is as though nothing is a miracle. The other is as though everything is a miracle.”\n",
            "by Albert Einstein (about)\n",
            "Tags: inspirational life live miracle miracles\n",
            "___\n",
            "____ “The person, be it gentleman or lady, who has not pleasure in a good novel, must be intolerably stupid.”\n",
            "by Jane Austen (about)\n",
            "Tags: aliteracy books classic humor\n",
            "___\n",
            "____ “Imperfection is beauty, madness is genius and it's better to be absolutely ridiculous than absolutely boring.”\n",
            "by Marilyn Monroe (about)\n",
            "Tags: be-yourself inspirational\n",
            "___\n",
            "____ “Try not to become a man of success. Rather become a man of value.”\n",
            "by Albert Einstein (about)\n",
            "Tags: adulthood success value\n",
            "___\n",
            "____ “It is better to be hated for what you are than to be loved for what you are not.”\n",
            "by André Gide (about)\n",
            "Tags: life love\n",
            "___\n",
            "____ “I have not failed. I've just found 10,000 ways that won't work.”\n",
            "by Thomas A. Edison (about)\n",
            "Tags: edison failure inspirational paraphrased\n",
            "___\n",
            "____ “A woman is like a tea bag; you never know how strong it is until it's in hot water.”\n",
            "by Eleanor Roosevelt (about)\n",
            "Tags: misattributed-eleanor-roosevelt\n",
            "___\n",
            "____ “A day without sunshine is like, you know, night.”\n",
            "by Steve Martin (about)\n",
            "Tags: humor obvious simile\n"
          ]
        }
      ]
    }
  ]
}